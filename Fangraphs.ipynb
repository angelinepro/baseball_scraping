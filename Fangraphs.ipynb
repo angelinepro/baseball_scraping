{
 "cells": [
  {
   "cell_type": "code",
   "execution_count": 1,
   "metadata": {},
   "outputs": [],
   "source": [
    "from bs4 import BeautifulSoup\n",
    "import requests\n",
    "import pandas as pd\n",
    "import re"
   ]
  },
  {
   "cell_type": "code",
   "execution_count": 69,
   "metadata": {},
   "outputs": [],
   "source": [
    "#List of URLs to scrape from Fangraphs, by year of projection\n",
    "list_urls_2017 = [\n",
    " 'http://www.fangraphs.com/blogs/2017-zips-projections-baltimore-orioles',\n",
    " 'http://www.fangraphs.com/blogs/2017-zips-projections-chicago-white-sox',\n",
    " 'http://www.fangraphs.com/blogs/2017-zips-projections-houston-astros',\n",
    " 'http://www.fangraphs.com/blogs/2017-zips-projections-boston-red-sox',\n",
    " 'http://www.fangraphs.com/blogs/2017-zips-projections-cleveland-indians',\n",
    " 'http://www.fangraphs.com/blogs/2017-zips-projections-los-angeles-angels',\n",
    " 'http://www.fangraphs.com/blogs/2017-zips-projections-new-york-yankees',\n",
    " 'http://www.fangraphs.com/blogs/2017-zips-projections-detroit-tigers',\n",
    " 'http://www.fangraphs.com/blogs/2017-zips-projections-oakland-athletics',\n",
    " 'http://www.fangraphs.com/blogs/2017-zips-projections-tampa-bay-rays',\n",
    " 'http://www.fangraphs.com/blogs/2017-zips-projections-kansas-city-royals',\n",
    " 'http://www.fangraphs.com/blogs/2017-zips-projections-seattle-mariners',\n",
    " 'http://www.fangraphs.com/blogs/2017-zips-projections-toronto-blue-jays',\n",
    " 'http://www.fangraphs.com/blogs/2017-zips-projections-minnesota-twins',\n",
    " 'http://www.fangraphs.com/blogs/2017-zips-projections-texas-rangers',\n",
    " 'http://www.fangraphs.com/blogs/2017-zips-projections-atlanta-braves',\n",
    " 'http://www.fangraphs.com/blogs/2017-zips-projections-chicago-cubs',\n",
    " 'http://www.fangraphs.com/blogs/2017-zips-projections-arizona-diamondbacks',\n",
    " 'http://www.fangraphs.com/blogs/2017-zips-projections-miami-marlins',\n",
    " 'http://www.fangraphs.com/blogs/2017-zips-projections-cincinnati-reds',\n",
    " 'http://www.fangraphs.com/blogs/2017-zips-projections-colorado-rockies',\n",
    " 'http://www.fangraphs.com/blogs/2017-zips-projections-new-york-mets',\n",
    " 'http://www.fangraphs.com/blogs/2017-zips-projections-milwaukee-brewers',\n",
    " 'http://www.fangraphs.com/blogs/2017-zips-projections-los-angeles-dodgers',\n",
    " 'http://www.fangraphs.com/blogs/2017-zips-projections-philadselphia-phillies',\n",
    " 'http://www.fangraphs.com/blogs/2017-zips-projections-pittsburgh-pirates',\n",
    " 'http://www.fangraphs.com/blogs/2017-zips-projections-san-diego-padres',\n",
    " 'http://www.fangraphs.com/blogs/2017-zips-projections-washington-nationals',\n",
    " 'http://www.fangraphs.com/blogs/2017-zips-projections-st-louis-cardinals',\n",
    " 'http://www.fangraphs.com/blogs/2017-zips-projections-san-francisco-giants']\n",
    "\n",
    "list_urls_2018 = ['http://www.fangraphs.com/blogs/2018-zips-projections-baltimore-orioles',\n",
    " 'http://www.fangraphs.com/blogs/2018-zips-projections-chicago-white-sox',\n",
    " 'http://www.fangraphs.com/blogs/2018-zips-projections-houston-astros',\n",
    " 'http://www.fangraphs.com/blogs/2018-zips-projections-boston-red-sox',\n",
    " 'http://www.fangraphs.com/blogs/2018-zips-projections-cleveland-indians',\n",
    " 'http://www.fangraphs.com/blogs/2018-zips-projections-los-angeles-angels',\n",
    " 'http://www.fangraphs.com/blogs/2018-zips-projections-new-york-yankees',\n",
    " 'http://www.fangraphs.com/blogs/2018-zips-projections-detroit-tigers',\n",
    " 'http://www.fangraphs.com/blogs/2018-zips-projections-oakland-as',\n",
    " 'http://www.fangraphs.com/blogs/2018-zips-projections-tampa-bay-rays',\n",
    " 'http://www.fangraphs.com/blogs/2018-zips-projections-kansas-city-royals',\n",
    " 'http://www.fangraphs.com/blogs/2018-zips-projections-seattle-mariners',\n",
    " 'http://www.fangraphs.com/blogs/2018-zips-projections-toronto-blue-jays',\n",
    " 'http://www.fangraphs.com/blogs/2018-zips-projections-minnesota-twins',\n",
    " 'http://www.fangraphs.com/blogs/2018-zips-projections-texas-rangers',\n",
    " 'http://www.fangraphs.com/blogs/2018-zips-projections-atlanta-braves',\n",
    " 'http://www.fangraphs.com/blogs/2018-zips-projections-chicago-cubs',\n",
    " 'http://www.fangraphs.com/blogs/2018-zips-projections-arizona-diamondbacks',\n",
    " 'http://www.fangraphs.com/blogs/2018-zips-projections-miami-marlins',\n",
    " 'http://www.fangraphs.com/blogs/2018-zips-projections-cincinnati-reds',\n",
    " 'http://www.fangraphs.com/blogs/2018-zips-projections-colorado-rockies',\n",
    " 'http://www.fangraphs.com/blogs/2018-zips-projections-new-york-mets',\n",
    " 'http://www.fangraphs.com/blogs/2018-zips-projections-milwaukee-brewers',\n",
    " 'http://www.fangraphs.com/blogs/2018-zips-projections-los-angeles-dodgers',\n",
    " 'http://www.fangraphs.com/blogs/2018-zips-projections-philadelphia-phillies',\n",
    " 'http://www.fangraphs.com/blogs/2018-zips-projections-pittsburgh-pirates',\n",
    " 'http://www.fangraphs.com/blogs/2018-zips-projections-san-diego-padres',\n",
    " 'http://www.fangraphs.com/blogs/2018-zips-projections-washington-nationals',\n",
    " 'http://www.fangraphs.com/blogs/2018-zips-projections-st-louis-cardinals',\n",
    " 'http://www.fangraphs.com/blogs/2018-zips-projections-san-francisco-giants']\n",
    "\n",
    "list_urls_2019 = [\n",
    " 'http://www.fangraphs.com/blogs/2019-zips-projections-baltimore-orioles',\n",
    " 'http://www.fangraphs.com/blogs/2019-zips-projections-chicago-white-sox',\n",
    " 'http://www.fangraphs.com/blogs/2019-zips-projection-houston-astros',\n",
    " 'http://www.fangraphs.com/blogs/2019-zips-projections-boston-red-sox',\n",
    " 'http://www.fangraphs.com/blogs/2019-zips-projections-cleveland-indians',\n",
    " 'http://www.fangraphs.com/blogs/2019-zips-projections-los-angeles-angels',\n",
    " 'http://www.fangraphs.com/blogs/2019-zips-projections-new-york-yankees',\n",
    " 'http://www.fangraphs.com/blogs/2019-zips-projections-detroit-tigers',\n",
    " 'http://www.fangraphs.com/blogs/2019-zips-projections-oakland-athletics',\n",
    " 'http://www.fangraphs.com/blogs/2019-zips-projections-tampa-bay-rays',\n",
    " 'http://www.fangraphs.com/blogs/2019-zips-projections-kansas-city-royals',\n",
    " 'http://www.fangraphs.com/blogs/2019-zips-projections-seattle-mariners',\n",
    " 'http://www.fangraphs.com/blogs/2019-zips-projections-toronto-blue-jays',\n",
    " 'http://www.fangraphs.com/blogs/2019-zips-projections-minnesota-twins',\n",
    " 'http://www.fangraphs.com/blogs/2019-zips-projections-texas-rangers',\n",
    " 'http://www.fangraphs.com/blogs/2019-zips-projections-atlanta-braves',\n",
    " 'http://www.fangraphs.com/blogs/2019-zips-projections-chicago-cubs',\n",
    " 'http://www.fangraphs.com/blogs/2019-zips-projections-arizona-diamondbacks',\n",
    " 'http://www.fangraphs.com/blogs/2019-zips-projections-miami-marlins',\n",
    " 'http://www.fangraphs.com/blogs/2019-zips-projections-cincinnati-reds',\n",
    " 'http://www.fangraphs.com/blogs/2019-zips-projections-colorado-rockies',\n",
    " 'http://www.fangraphs.com/blogs/2019-zips-projections-new-york-mets',\n",
    " 'http://www.fangraphs.com/blogs/2019-zips-projections-milwaukee-brewers',\n",
    " 'http://www.fangraphs.com/blogs/2019-zips-projections-los-angeles-dodgers',\n",
    " 'http://www.fangraphs.com/blogs/2019-zips-projections-philadelphia-phillies',\n",
    " 'http://www.fangraphs.com/blogs/2019-zips-projections-pittsburgh-pirates',\n",
    " 'http://www.fangraphs.com/blogs/2019-zips-projections-san-diego-padres',\n",
    " 'http://www.fangraphs.com/blogs/2019-zips-projections-washington-nationals',\n",
    " 'http://www.fangraphs.com/blogs/2019-zips-projections-st-louis-cardinals',\n",
    " 'http://www.fangraphs.com/blogs/2019-zips-projections-san-francisco-giants']"
   ]
  },
  {
   "cell_type": "code",
   "execution_count": 3,
   "metadata": {},
   "outputs": [],
   "source": [
    "# short_list = list_urls[0:4]\n",
    "# short_list"
   ]
  },
  {
   "cell_type": "code",
   "execution_count": 5,
   "metadata": {},
   "outputs": [],
   "source": [
    "#Function to get source data for each team, appended into one long list\n",
    "def get_data(urls):\n",
    "    response = []\n",
    "    for i in urls:\n",
    "        response.append(requests.get(i))\n",
    "    return response"
   ]
  },
  {
   "cell_type": "code",
   "execution_count": 72,
   "metadata": {},
   "outputs": [],
   "source": [
    "#start with 2017 data\n",
    "responses = get_data(list_urls_2017) "
   ]
  },
  {
   "cell_type": "code",
   "execution_count": 7,
   "metadata": {},
   "outputs": [],
   "source": [
    "#Function to parse all source data into Beautiful Soup object\n",
    "def make_soup(response_list):\n",
    "    soup = []\n",
    "    for i in response_list:\n",
    "        soup.append(BeautifulSoup(i.text, 'html5lib'))\n",
    "    return soup"
   ]
  },
  {
   "cell_type": "code",
   "execution_count": 73,
   "metadata": {},
   "outputs": [],
   "source": [
    "#Turn 2017 data into Beautiful Soup\n",
    "soups = make_soup(responses)"
   ]
  },
  {
   "cell_type": "code",
   "execution_count": 22,
   "metadata": {},
   "outputs": [],
   "source": [
    "#Helper function to create list for each statistic by row\n",
    "def extract_column(number, data, upper_limit, num_cols):\n",
    "    name = []\n",
    "    name_list = []\n",
    "    for i in range(0, upper_limit):\n",
    "        name.append(number + i*num_cols)\n",
    "    for i in name:\n",
    "        name_list.append(data[i])\n",
    "    return name_list"
   ]
  },
  {
   "cell_type": "code",
   "execution_count": 23,
   "metadata": {},
   "outputs": [],
   "source": [
    "#Helper function to extract team name from source html\n",
    "def team_name(team_data, upper_limit):\n",
    "    team_list = []\n",
    "    team_clean = re.findall('[\\s(A-z)]+[\\|]', team_data)[0].replace('|', '').strip()\n",
    "    for i in range(0, upper_limit):\n",
    "        team_list.append(team_clean)\n",
    "    return team_list"
   ]
  },
  {
   "cell_type": "code",
   "execution_count": 75,
   "metadata": {},
   "outputs": [],
   "source": [
    "#Function to get pitching counting stats\n",
    "def extract_pitching(soup_list, text_id, num_cols):\n",
    "    pitch_list = []\n",
    "    for j in soup_list:\n",
    "        data_crude = j.find(text = text_id).findNext().text.split(\"\\n\")\n",
    "        data_crude2 = []\n",
    "        for i in data_crude:\n",
    "            if i != '':\n",
    "                data_crude2.append(i)\n",
    "        data = data_crude2[num_cols:]\n",
    "        headers = data_crude2[:num_cols]\n",
    "        headers.insert(1, \"Team\")\n",
    "        team_data = j.find('title').text\n",
    "        upper_bound = int(len(data)/num_cols)\n",
    "        names = extract_column(0, data, upper_bound, num_cols)\n",
    "        team = team_name(team_data, upper_bound)\n",
    "        throws = extract_column(1, data, upper_bound, num_cols)\n",
    "        age = extract_column(2, data, upper_bound, num_cols)\n",
    "        games = extract_column(3, data, upper_bound, num_cols)\n",
    "        games_started = extract_column(4, data, upper_bound, num_cols)\n",
    "        innings_pitched = extract_column(5, data, upper_bound, num_cols)\n",
    "        strikeouts = extract_column(6, data, upper_bound, num_cols)\n",
    "        walks = extract_column(7, data, upper_bound, num_cols)\n",
    "        homeruns = extract_column(8, data, upper_bound, num_cols)\n",
    "        hits = extract_column(9, data, upper_bound, num_cols)\n",
    "        runs = extract_column(10, data, upper_bound, num_cols)\n",
    "        earned_runs = extract_column(11, data, upper_bound, num_cols)\n",
    "        pitch_data = pd.DataFrame(list(zip(names, \n",
    "                                           team,\n",
    "                                           throws,\n",
    "                                           age,\n",
    "                                           games,\n",
    "                                           games_started,\n",
    "                                           innings_pitched,\n",
    "                                           strikeouts,\n",
    "                                           walks,\n",
    "                                           homeruns,\n",
    "                                           hits,\n",
    "                                           runs,\n",
    "                                           earned_runs)),\n",
    "                                 columns = headers)\n",
    "        pitch_list.append(pitch_data)\n",
    "    pitching = pd.concat(pitch_list, ignore_index = True, axis = 0)\n",
    "    return pitching"
   ]
  },
  {
   "cell_type": "code",
   "execution_count": 83,
   "metadata": {},
   "outputs": [
    {
     "ename": "AttributeError",
     "evalue": "'NoneType' object has no attribute 'findNext'",
     "output_type": "error",
     "traceback": [
      "\u001b[0;31m---------------------------------------------------------------------------\u001b[0m",
      "\u001b[0;31mAttributeError\u001b[0m                            Traceback (most recent call last)",
      "\u001b[0;32m<ipython-input-83-b52fc45b5c88>\u001b[0m in \u001b[0;36m<module>\u001b[0;34m\u001b[0m\n\u001b[1;32m      1\u001b[0m \u001b[0;31m#Call function to get all pitching counting stats for 2017, table has 12 columns\u001b[0m\u001b[0;34m\u001b[0m\u001b[0;34m\u001b[0m\u001b[0;34m\u001b[0m\u001b[0m\n\u001b[0;32m----> 2\u001b[0;31m \u001b[0mpitch_data\u001b[0m \u001b[0;34m=\u001b[0m \u001b[0mextract_pitching\u001b[0m\u001b[0;34m(\u001b[0m\u001b[0msoups\u001b[0m\u001b[0;34m,\u001b[0m \u001b[0;34m\"Pitchers, Counting Stats\"\u001b[0m\u001b[0;34m,\u001b[0m \u001b[0;36m12\u001b[0m\u001b[0;34m)\u001b[0m\u001b[0;34m\u001b[0m\u001b[0;34m\u001b[0m\u001b[0m\n\u001b[0m",
      "\u001b[0;32m<ipython-input-75-7757c9ce87ae>\u001b[0m in \u001b[0;36mextract_pitching\u001b[0;34m(soup_list, text_id, num_cols)\u001b[0m\n\u001b[1;32m      3\u001b[0m     \u001b[0mpitch_list\u001b[0m \u001b[0;34m=\u001b[0m \u001b[0;34m[\u001b[0m\u001b[0;34m]\u001b[0m\u001b[0;34m\u001b[0m\u001b[0;34m\u001b[0m\u001b[0m\n\u001b[1;32m      4\u001b[0m     \u001b[0;32mfor\u001b[0m \u001b[0mj\u001b[0m \u001b[0;32min\u001b[0m \u001b[0msoup_list\u001b[0m\u001b[0;34m:\u001b[0m\u001b[0;34m\u001b[0m\u001b[0;34m\u001b[0m\u001b[0m\n\u001b[0;32m----> 5\u001b[0;31m         \u001b[0mdata_crude\u001b[0m \u001b[0;34m=\u001b[0m \u001b[0mj\u001b[0m\u001b[0;34m.\u001b[0m\u001b[0mfind\u001b[0m\u001b[0;34m(\u001b[0m\u001b[0mtext\u001b[0m \u001b[0;34m=\u001b[0m \u001b[0mtext_id\u001b[0m\u001b[0;34m)\u001b[0m\u001b[0;34m.\u001b[0m\u001b[0mfindNext\u001b[0m\u001b[0;34m(\u001b[0m\u001b[0;34m)\u001b[0m\u001b[0;34m.\u001b[0m\u001b[0mtext\u001b[0m\u001b[0;34m.\u001b[0m\u001b[0msplit\u001b[0m\u001b[0;34m(\u001b[0m\u001b[0;34m\"\\n\"\u001b[0m\u001b[0;34m)\u001b[0m\u001b[0;34m\u001b[0m\u001b[0;34m\u001b[0m\u001b[0m\n\u001b[0m\u001b[1;32m      6\u001b[0m         \u001b[0mdata_crude2\u001b[0m \u001b[0;34m=\u001b[0m \u001b[0;34m[\u001b[0m\u001b[0;34m]\u001b[0m\u001b[0;34m\u001b[0m\u001b[0;34m\u001b[0m\u001b[0m\n\u001b[1;32m      7\u001b[0m         \u001b[0;32mfor\u001b[0m \u001b[0mi\u001b[0m \u001b[0;32min\u001b[0m \u001b[0mdata_crude\u001b[0m\u001b[0;34m:\u001b[0m\u001b[0;34m\u001b[0m\u001b[0;34m\u001b[0m\u001b[0m\n",
      "\u001b[0;31mAttributeError\u001b[0m: 'NoneType' object has no attribute 'findNext'"
     ]
    }
   ],
   "source": [
    "#Call function to get all pitching counting stats for 2017, table has 12 columns\n",
    "pitch_data = extract_pitching(soups, \"Pitchers, Counting Stats\", 12)"
   ]
  },
  {
   "cell_type": "code",
   "execution_count": 29,
   "metadata": {},
   "outputs": [],
   "source": [
    "#Function to get pitching rates\n",
    "def extract_pitching_rates(soup_list, text_id, num_cols):\n",
    "    pitch_list = []\n",
    "    for i in soup_list:\n",
    "        data_crude = i.find(text = text_id).findNext().text.split(\"\\n\")\n",
    "        data_crude2 = []\n",
    "        for i in data_crude:\n",
    "            if i != '':\n",
    "                data_crude2.append(i)\n",
    "        headers = data_crude2[:num_cols]\n",
    "        data = data_crude2[num_cols:]\n",
    "        upper_bound = int(len(data)/num_cols)\n",
    "        names = extract_column(0, data, upper_bound, num_cols)\n",
    "        IPs = extract_column(1, data, upper_bound, num_cols)\n",
    "        TBFs = extract_column(2, data, upper_bound, num_cols)\n",
    "        K_pcts = extract_column(3, data, upper_bound, num_cols)\n",
    "        BB_pcts = extract_column(4, data, upper_bound, num_cols)\n",
    "        BABIPs = extract_column(5, data, upper_bound, num_cols)\n",
    "        ERAs = extract_column(6, data, upper_bound, num_cols)\n",
    "        FIPs = extract_column(7, data, upper_bound, num_cols)\n",
    "        ERA_minus = extract_column(8, data, upper_bound, num_cols)\n",
    "        FIP_minus = extract_column(9, data, upper_bound, num_cols)\n",
    "        pitch_data = pd.DataFrame(list(zip(names, \n",
    "                                           IPs,\n",
    "                                           TBFs,\n",
    "                                           K_pcts,\n",
    "                                           BB_pcts,\n",
    "                                           BABIPs,\n",
    "                                           ERAs,\n",
    "                                           FIPs,\n",
    "                                           ERA_minus,\n",
    "                                           FIP_minus)),\n",
    "                                 columns = headers)\n",
    "        pitch_list.append(pitch_data)\n",
    "    pitching = pd.concat(pitch_list, ignore_index = True, axis = 0)\n",
    "    return pitching"
   ]
  },
  {
   "cell_type": "code",
   "execution_count": 30,
   "metadata": {},
   "outputs": [],
   "source": [
    "#Call function to get all pitching rate stats for 2017, table has 10 columns\n",
    "pitch_rates_data = extract_pitching_rates(soups, \"Pitchers, Rates and Averages\", 10)"
   ]
  },
  {
   "cell_type": "code",
   "execution_count": 32,
   "metadata": {},
   "outputs": [],
   "source": [
    "#Function to get other pitching stats\n",
    "def extract_pitching_other(soup_list, text_id, num_cols):\n",
    "    pitch_list = []\n",
    "    for i in soup_list:\n",
    "        data_crude = i.find(text = text_id).findNext().text.split(\"\\n\")\n",
    "        data_crude2 = []\n",
    "        for i in data_crude:\n",
    "            if i != '':\n",
    "                data_crude2.append(i)\n",
    "        headers = data_crude2[:num_cols]\n",
    "        data = data_crude2[num_cols:]\n",
    "        upper_bound = int(len(data)/num_cols)\n",
    "        names = extract_column(0, data, upper_bound, num_cols)\n",
    "        IPs = extract_column(1, data, upper_bound, num_cols)\n",
    "        K_9s = extract_column(2, data, upper_bound, num_cols)\n",
    "        BB_9s = extract_column(3, data, upper_bound, num_cols)\n",
    "        HR_9s = extract_column(4, data, upper_bound, num_cols)\n",
    "        ERA_plus = extract_column(5, data, upper_bound, num_cols)\n",
    "        zWARs = extract_column(6, data, upper_bound, num_cols)\n",
    "        competition = extract_column(7, data, upper_bound, num_cols)\n",
    "        pitch_data = pd.DataFrame(list(zip(names, \n",
    "                                           IPs,\n",
    "                                           K_9s,\n",
    "                                           BB_9s,\n",
    "                                           HR_9s,\n",
    "                                           ERA_plus,\n",
    "                                           zWARs,\n",
    "                                           competition)),\n",
    "                                 columns = headers)\n",
    "        pitch_list.append(pitch_data)\n",
    "    pitching = pd.concat(pitch_list, ignore_index = True, axis = 0)\n",
    "    return pitching"
   ]
  },
  {
   "cell_type": "code",
   "execution_count": 33,
   "metadata": {},
   "outputs": [],
   "source": [
    "#Call function to get all other pitching stats for 2017, table has 8 columns\n",
    "pitch_other_data = extract_pitching_other(soups, \"Pitchers, Assorted Other\", 8)"
   ]
  },
  {
   "cell_type": "code",
   "execution_count": 72,
   "metadata": {},
   "outputs": [],
   "source": [
    "#combine counting, rate, and other data into one Pandas dataframe\n",
    "pitch_rates_data.drop(columns = ['Player', 'IP'], inplace = True)\n",
    "pitch_other_data.drop(columns = ['Player', 'IP', 'No. 1 Comp'], inplace = True)\n",
    "#Start with counting and rates data\n",
    "partial = pd.concat([pitch_data, pitch_rates_data], axis = 1)\n",
    "#Add in other data\n",
    "full = pd.concat([partial, pitch_other_data], axis = 1)"
   ]
  },
  {
   "cell_type": "code",
   "execution_count": 34,
   "metadata": {},
   "outputs": [
    {
     "ename": "NameError",
     "evalue": "name 'full' is not defined",
     "output_type": "error",
     "traceback": [
      "\u001b[0;31m---------------------------------------------------------------------------\u001b[0m",
      "\u001b[0;31mNameError\u001b[0m                                 Traceback (most recent call last)",
      "\u001b[0;32m<ipython-input-34-1d6b96a82fcc>\u001b[0m in \u001b[0;36m<module>\u001b[0;34m\u001b[0m\n\u001b[1;32m      1\u001b[0m \u001b[0;31m#Check columns and preview dataframe\u001b[0m\u001b[0;34m\u001b[0m\u001b[0;34m\u001b[0m\u001b[0;34m\u001b[0m\u001b[0m\n\u001b[0;32m----> 2\u001b[0;31m \u001b[0mfull\u001b[0m\u001b[0;34m.\u001b[0m\u001b[0mcolumns\u001b[0m\u001b[0;34m\u001b[0m\u001b[0;34m\u001b[0m\u001b[0m\n\u001b[0m\u001b[1;32m      3\u001b[0m \u001b[0mfull\u001b[0m\u001b[0;34m.\u001b[0m\u001b[0mhead\u001b[0m\u001b[0;34m(\u001b[0m\u001b[0;36m6\u001b[0m\u001b[0;34m)\u001b[0m\u001b[0;34m\u001b[0m\u001b[0;34m\u001b[0m\u001b[0m\n",
      "\u001b[0;31mNameError\u001b[0m: name 'full' is not defined"
     ]
    }
   ],
   "source": [
    "#Check columns and preview dataframe\n",
    "full.columns\n",
    "full.head(6)"
   ]
  },
  {
   "cell_type": "code",
   "execution_count": null,
   "metadata": {},
   "outputs": [],
   "source": [
    "# Print full 2017 pitching data to csv, \n",
    "# commented out so datafile is not overwritten each time code is run\n",
    "# full.to_csv('projected_2017.csv', index = False)"
   ]
  },
  {
   "cell_type": "code",
   "execution_count": 71,
   "metadata": {},
   "outputs": [],
   "source": [
    "#Rerun code to get 2018 data.\n",
    "responses = get_data(list_urls_2018) \n",
    "soups = make_soup(responses)\n",
    "pitch_data = extract_pitching(soups, \"Pitchers, Counting Stats\", 12)\n",
    "pitch_rates_data = extract_pitching_rates(soups, \"Pitchers, Rates and Averages\", 10)\n",
    "pitch_other_data = extract_pitching_other(soups, \"Pitchers, Assorted Other\", 8)\n",
    "pitch_rates_data.drop(columns = ['Player', 'IP'], inplace = True)\n",
    "pitch_other_data.drop(columns = ['Player', 'IP', 'No. 1 Comp'], inplace = True)\n",
    "partial = pd.concat([pitch_data, pitch_rates_data], axis = 1)\n",
    "full = pd.concat([partial, pitch_other_data], axis = 1)\n",
    "full.to_csv('projected_2018.csv', index = False)"
   ]
  },
  {
   "cell_type": "markdown",
   "metadata": {},
   "source": [
    "2019 Data! The tables are laid out differently, and one of the teams has one less column."
   ]
  },
  {
   "cell_type": "code",
   "execution_count": 35,
   "metadata": {},
   "outputs": [],
   "source": [
    "#Get source for 2019 data.\n",
    "responses = get_data(list_urls_2019) \n",
    "soups = make_soup(responses)"
   ]
  },
  {
   "cell_type": "code",
   "execution_count": 40,
   "metadata": {},
   "outputs": [],
   "source": [
    "#Function to get pitching counting stats. Many more columns present than in 2017/2018.\n",
    "def extract_pitching_2019(soup_list, text_id, num_cols):\n",
    "    pitch_list = []\n",
    "    for j in soup_list:\n",
    "        data_crude = j.find(text = text_id).findNext().text.split(\"\\n\")\n",
    "        data_crude2 = []\n",
    "        for i in data_crude:\n",
    "            if i != '':\n",
    "                data_crude2.append(i)\n",
    "        data = data_crude2[num_cols:]\n",
    "        headers = data_crude2[:num_cols]\n",
    "        headers.insert(1, \"Team\")\n",
    "        team_data = j.find('title').text\n",
    "        upper_bound = int(len(data)/num_cols)\n",
    "        names = extract_column(0, data, upper_bound, num_cols)\n",
    "        team = team_name(team_data, upper_bound)\n",
    "        throws = extract_column(1, data, upper_bound, num_cols)\n",
    "        age = extract_column(2, data, upper_bound, num_cols)\n",
    "        wins = extract_column(3, data, upper_bound, num_cols)\n",
    "        losses = extract_column(4, data, upper_bound, num_cols)\n",
    "        ERA = extract_column(5, data, upper_bound, num_cols)\n",
    "        games = extract_column(6, data, upper_bound, num_cols)\n",
    "        games_started = extract_column(7, data, upper_bound, num_cols)\n",
    "        innings_pitched = extract_column(8, data, upper_bound, num_cols)\n",
    "        hits = extract_column(9, data, upper_bound, num_cols)\n",
    "        earned_runs = extract_column(10, data, upper_bound, num_cols)\n",
    "        homeruns = extract_column(11, data, upper_bound, num_cols)\n",
    "        walks = extract_column(12, data, upper_bound, num_cols)\n",
    "        strikeouts = extract_column(13, data, upper_bound, num_cols)\n",
    "        pitch_data = pd.DataFrame(list(zip(names, \n",
    "                                           team,\n",
    "                                           throws,\n",
    "                                           age,\n",
    "                                           wins, \n",
    "                                           losses, \n",
    "                                           ERA, \n",
    "                                           games, \n",
    "                                           games_started, \n",
    "                                           innings_pitched,\n",
    "                                           hits, \n",
    "                                           earned_runs, \n",
    "                                           homeruns, \n",
    "                                           walks, \n",
    "                                           strikeouts)),\n",
    "                                 columns = headers)\n",
    "        pitch_list.append(pitch_data)\n",
    "    pitching = pd.concat(pitch_list, ignore_index = True, axis = 0)\n",
    "    return pitching"
   ]
  },
  {
   "cell_type": "code",
   "execution_count": 64,
   "metadata": {},
   "outputs": [],
   "source": [
    "#Call function to get all pitching counting stats for 2019, table has 14 columns\n",
    "pitch_data = extract_pitching_2019(soups, 'Pitchers – Counting Stats', 14)"
   ]
  },
  {
   "cell_type": "code",
   "execution_count": 45,
   "metadata": {},
   "outputs": [],
   "source": [
    "#Function to get pitching rates. Note this doesn't work for one team's data.\n",
    "def extract_pitching_rates_2019(soup_list, text_id, num_cols):\n",
    "    pitch_list = []\n",
    "    for j in soup_list:\n",
    "        data_crude = j.find(text = text_id).parent.parent.parent.text.split(\"\\n\")\n",
    "        data_crude2 = []\n",
    "        for i in data_crude:\n",
    "            if i != '':\n",
    "                data_crude2.append(i)\n",
    "        data = data_crude2[num_cols:]\n",
    "        headers = data_crude2[:num_cols]\n",
    "        upper_bound = int(len(data)/num_cols)\n",
    "        names = extract_column(0, data, upper_bound, num_cols)\n",
    "        IPs = extract_column(1, data, upper_bound, num_cols)\n",
    "        TBFs = extract_column(2, data, upper_bound, num_cols)\n",
    "        K_9s = extract_column(3, data, upper_bound, num_cols)\n",
    "        BB_9s = extract_column(4, data, upper_bound, num_cols)\n",
    "        HR_9s = extract_column(5, data, upper_bound, num_cols)\n",
    "        BABIPs = extract_column(6, data, upper_bound, num_cols)\n",
    "        ERA_plus = extract_column(5, data, upper_bound, num_cols)\n",
    "        ERA_minus = extract_column(8, data, upper_bound, num_cols)\n",
    "        FIPs = extract_column(9, data, upper_bound, num_cols)\n",
    "        WAR = extract_column(10, data, upper_bound, num_cols)\n",
    "        pitch_data = pd.DataFrame(list(zip(names, \n",
    "                                           IPs,\n",
    "                                           TBFs,\n",
    "                                           K_9s,\n",
    "                                           BB_9s,\n",
    "                                           HR_9s,\n",
    "                                           BABIPs,\n",
    "                                           ERA_plus,\n",
    "                                           ERA_minus,                                           \n",
    "                                           FIPs,                                        \n",
    "                                           WAR)),\n",
    "                                 columns = headers)\n",
    "        pitch_list.append(pitch_data)\n",
    "    pitching = pd.concat(pitch_list, ignore_index = True, axis = 0)\n",
    "    return pitching"
   ]
  },
  {
   "cell_type": "code",
   "execution_count": 43,
   "metadata": {},
   "outputs": [],
   "source": [
    "#For some reason, soup[4] has fewer cols. Remove it from the list and add it back in later.\n",
    "new_soup = soups[0:4] + soups[5:] "
   ]
  },
  {
   "cell_type": "code",
   "execution_count": 46,
   "metadata": {},
   "outputs": [],
   "source": [
    "#Call function to get all (but one team's) pitching rate stats for 2019, table has 11 columns\n",
    "pitch_rates_data = extract_pitching_rates_2019(new_soup, 'TBF', 11)"
   ]
  },
  {
   "cell_type": "code",
   "execution_count": 48,
   "metadata": {},
   "outputs": [],
   "source": [
    "#Function to get pitching rates. Note this is particular for one team's data. Doesn't\n",
    "#contain ERA_minus data.\n",
    "def extract_pitching_rates_2019_4(soup_list, text_id, num_cols):\n",
    "    pitch_list = []\n",
    "    for j in soup_list:\n",
    "        data_crude = j.find(text = text_id).parent.parent.parent.text.split(\"\\n\")\n",
    "        data_crude2 = []\n",
    "        for i in data_crude:\n",
    "            if i != '':\n",
    "                data_crude2.append(i)\n",
    "        data = data_crude2[num_cols:]\n",
    "        headers = data_crude2[:num_cols]\n",
    "        upper_bound = int(len(data)/num_cols)\n",
    "        names = extract_column(0, data, upper_bound, num_cols)\n",
    "        IPs = extract_column(1, data, upper_bound, num_cols)\n",
    "        TBFs = extract_column(2, data, upper_bound, num_cols)\n",
    "        K_9s = extract_column(3, data, upper_bound, num_cols)\n",
    "        BB_9s = extract_column(4, data, upper_bound, num_cols)\n",
    "        HR_9s = extract_column(5, data, upper_bound, num_cols)\n",
    "        BABIPs = extract_column(6, data, upper_bound, num_cols)\n",
    "        ERA_plus = extract_column(7, data, upper_bound, num_cols)\n",
    "        FIPs = extract_column(8, data, upper_bound, num_cols)\n",
    "        WAR = extract_column(9, data, upper_bound, num_cols)\n",
    "        pitch_data = pd.DataFrame(list(zip(names, \n",
    "                                           IPs,\n",
    "                                           TBFs,\n",
    "                                           K_9s,\n",
    "                                           BB_9s,\n",
    "                                           HR_9s,\n",
    "                                           BABIPs,\n",
    "                                           ERA_plus,                                     \n",
    "                                           FIPs,                                        \n",
    "                                           WAR)),\n",
    "                                 columns = headers)\n",
    "        pitch_list.append(pitch_data)\n",
    "    pitching = pd.concat(pitch_list, ignore_index = True, axis = 0)\n",
    "    return pitching"
   ]
  },
  {
   "cell_type": "code",
   "execution_count": 49,
   "metadata": {},
   "outputs": [],
   "source": [
    "#Work with just the one team's data that has a different number of columns\n",
    "soups4 = [soups[4]]"
   ]
  },
  {
   "cell_type": "code",
   "execution_count": 50,
   "metadata": {},
   "outputs": [],
   "source": [
    "#Call function to get one team's pitching rate stats for 2019, table has 10 columns\n",
    "pitch_rates_data_4 = extract_pitching_rates_2019_4(soups4, 'TBF', 10)"
   ]
  },
  {
   "cell_type": "code",
   "execution_count": 52,
   "metadata": {},
   "outputs": [],
   "source": [
    "#splicing the one team's data back in\n",
    "pitch_rates_data_p1 = pitch_rates_data.iloc[0:175]\n",
    "pitch_rates_data_p3 = pitch_rates_data.iloc[175:]\n",
    "pitch_rates_combined = pd.concat([pitch_rates_data_p1, pitch_rates_data_4, pitch_rates_data_p3], ignore_index = True)"
   ]
  },
  {
   "cell_type": "code",
   "execution_count": 53,
   "metadata": {},
   "outputs": [],
   "source": [
    "#removing redundant columns and No.1 Comp column.\n",
    "pitch_rates_combined.drop(columns = ['Player', 'No. 1 Comp'], inplace = True)"
   ]
  },
  {
   "cell_type": "code",
   "execution_count": 57,
   "metadata": {},
   "outputs": [],
   "source": [
    "full_2019 = pd.concat([pitch_data, pitch_rates_combined], axis = 1)"
   ]
  },
  {
   "cell_type": "code",
   "execution_count": 60,
   "metadata": {},
   "outputs": [],
   "source": [
    "#Reordering dataframe to match 2017-2018 column order\n",
    "projected_2019 = full_2019[['Player', 'Team', 'T', 'Age', 'G', 'GS', 'IP', 'SO', \n",
    "                            'BB', 'HR', 'H', 'ER', 'TBF', 'BABIP', 'ERA', 'FIP', \n",
    "                            'ERA-', 'K/9', 'BB/9', 'HR/9', 'ERA+', 'WAR', 'W', 'L']]"
   ]
  },
  {
   "cell_type": "code",
   "execution_count": 65,
   "metadata": {},
   "outputs": [
    {
     "data": {
      "text/plain": [
       "(1426, 24)"
      ]
     },
     "execution_count": 65,
     "metadata": {},
     "output_type": "execute_result"
    }
   ],
   "source": [
    "projected_2019.shape"
   ]
  },
  {
   "cell_type": "code",
   "execution_count": 67,
   "metadata": {},
   "outputs": [],
   "source": [
    "# Print full 2018 pitching data to csv, \n",
    "# commented out so datafile is not overwritten each time code is run\n",
    "#projected_2019.to_csv('projected_2019.csv', index = False)"
   ]
  },
  {
   "cell_type": "code",
   "execution_count": null,
   "metadata": {},
   "outputs": [],
   "source": []
  }
 ],
 "metadata": {
  "kernelspec": {
   "display_name": "Python 3",
   "language": "python",
   "name": "python3"
  },
  "language_info": {
   "codemirror_mode": {
    "name": "ipython",
    "version": 3
   },
   "file_extension": ".py",
   "mimetype": "text/x-python",
   "name": "python",
   "nbconvert_exporter": "python",
   "pygments_lexer": "ipython3",
   "version": "3.7.4"
  }
 },
 "nbformat": 4,
 "nbformat_minor": 4
}
