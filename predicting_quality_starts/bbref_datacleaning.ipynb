{
 "cells": [
  {
   "cell_type": "code",
   "execution_count": 2,
   "metadata": {},
   "outputs": [],
   "source": [
    "import pandas as pd"
   ]
  },
  {
   "cell_type": "code",
   "execution_count": 3,
   "metadata": {},
   "outputs": [],
   "source": [
    "def clean_bbref_season(csvpath, suffix):\n",
    "    file = pd.read_csv(csvpath)\n",
    "    file['Full_Name'] = file['Name'].str.split(\"\\\\\", expand = False).str[0].str.strip('*')\n",
    "    file['Full_Name'] = file.Full_Name.str.replace(u'\\xa0', ' ')\n",
    "    file['ID'] = file['Name'].str.split(\"\\\\\", expand = False).str[1]\n",
    "    cols = file.columns.tolist()\n",
    "    new_cols = [cols[-2], cols [-1]] + [i for i in cols[1:-2]]\n",
    "    single_row_file = file.groupby('ID').filter(lambda x: len(x) == 1)\n",
    "    multi_row_file = file[file.Tm == 'TOT']\n",
    "    no_duplicates = pd.concat([single_row_file, multi_row_file]).sort_index()[new_cols]\n",
    "    new_names = [(i,i+ suffix) for i in no_duplicates.iloc[:, 2:].columns.values]\n",
    "    no_duplicates.rename(columns = dict(new_names), inplace=True)\n",
    "    return no_duplicates\n",
    "    "
   ]
  },
  {
   "cell_type": "code",
   "execution_count": 7,
   "metadata": {},
   "outputs": [],
   "source": [
    "season_2016_c = clean_bbref_season('season_2016.csv', '_2016')\n",
    "season_2017_c = clean_bbref_season('season_2017.csv', '_2017')\n",
    "season_2018_c = clean_bbref_season('season_2018.csv', '_2018')\n",
    "season_2019_c = clean_bbref_season('season_2019.csv', '_2019')"
   ]
  },
  {
   "cell_type": "code",
   "execution_count": 8,
   "metadata": {},
   "outputs": [],
   "source": [
    "# season_2016_c.to_csv('season_2016_c.csv', index = False)\n",
    "# season_2017_c.to_csv('season_2017_c.csv', index = False)\n",
    "# season_2018_c.to_csv('season_2018_c.csv', index = False)\n",
    "# season_2019_c.to_csv('season_2019_c.csv', index = False)\n"
   ]
  },
  {
   "cell_type": "code",
   "execution_count": null,
   "metadata": {},
   "outputs": [],
   "source": []
  }
 ],
 "metadata": {
  "kernelspec": {
   "display_name": "Python 3",
   "language": "python",
   "name": "python3"
  },
  "language_info": {
   "codemirror_mode": {
    "name": "ipython",
    "version": 3
   },
   "file_extension": ".py",
   "mimetype": "text/x-python",
   "name": "python",
   "nbconvert_exporter": "python",
   "pygments_lexer": "ipython3",
   "version": "3.7.4"
  }
 },
 "nbformat": 4,
 "nbformat_minor": 4
}
